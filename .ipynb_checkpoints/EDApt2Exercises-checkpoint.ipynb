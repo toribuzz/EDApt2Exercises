{
 "cells": [
  {
   "cell_type": "markdown",
   "id": "90ae45ab",
   "metadata": {
    "raw_mimetype": "text/markdown"
   },
   "source": [
    "# How to calculate summary statistics?\n",
    "\n",
    "Follow along with this [article](https://pandas.pydata.org/pandas-docs/stable/getting_started/intro_tutorials/06_calculate_statistics.html). The data set from the article has been included in the repository already, no need to download separately. This notebook will also contain some supplemental information to help you better understand basic summary statistics.\n",
    "\n",
    "First thing we want to do is to import the pandas library."
   ]
  },
  {
   "cell_type": "code",
   "execution_count": null,
   "id": "9d3c3b53",
   "metadata": {},
   "outputs": [],
   "source": [
    "# import the pandas library and use the alias 'pd'\n",
    "import pandas as pd "
   ]
  },
  {
   "cell_type": "markdown",
   "id": "fe80ce4e",
   "metadata": {},
   "source": [
    "We are going to be working with the titanic dataset found [here.](https://github.com/pandas-dev/pandas/blob/master/doc/data/titanic.csv) It is in csv format and consists fo the following data columns:"
   ]
  },
  {
   "cell_type": "markdown",
   "id": "6266b04d",
   "metadata": {},
   "source": [
    "\n",
    "- PassengerId: Id of every passenger.\n",
    "- Survived: Value of 0 for not survived and 1 for survived.\n",
    "- Pclass: There are 3 classes: Class 1, Class 2 and Class 3.\n",
    "- Name: Name of passenger.\n",
    "- Sex: Gender of passenger.\n",
    "- Age: Age of passenger.\n",
    "- SibSp: Number of siblings / spouses on the Titanic\n",
    "- Parch: Number of parents / children on the Titanic\n",
    "- Ticket: Ticket number of passenger.\n",
    "- Fare: Indicating the fare.\n",
    "- Cabin: The cabin of passenger.\n",
    "- Embarked: Port of Embarkation ( C = Cherbourg, Q = Queenstown, S = Southampton)\n",
    "\n",
    "Let's load the data into a data frame and see what the data looks like. Since your csv file is in a folder named data, the path syntex is: data/your_data_set_name.csv to read your data into a data frame."
   ]
  },
  {
   "cell_type": "code",
   "execution_count": null,
   "id": "a7383c72",
   "metadata": {},
   "outputs": [],
   "source": [
    "#read titantic data set into a data frame\n",
    "\n",
    "\n",
    "#although we listed the column names above, write the code to return the name of all of your columns in the dataset\n"
   ]
  },
  {
   "cell_type": "code",
   "execution_count": null,
   "id": "13e52049",
   "metadata": {
    "scrolled": true
   },
   "outputs": [],
   "source": [
    "# print the first 5 rows from the dataframe\n"
   ]
  },
  {
   "cell_type": "markdown",
   "id": "5456e387",
   "metadata": {},
   "source": [
    "What are some of your observations from looking at the data so far? Questions you would like to explore?\n",
    "\n",
    "For example: I noticed that Survived is an int instead of Yes or No, not sure if I'll need to address that while data cleaning. I'm curious if the amount you paid for your ticket(Fare) impacted your survival rate?\n",
    "<br><br><br><br><br>\n",
    "\n",
    "\n",
    "\n",
    "\n",
    "\n"
   ]
  },
  {
   "cell_type": "code",
   "execution_count": null,
   "id": "0dc4c04a",
   "metadata": {},
   "outputs": [],
   "source": [
    "#.info() returns: \n",
    "#name of the column, Non-null Count meaning how many non-null values their are in that column and Dtype\n",
    "#int64 means int value, float64 means float value, object means string value.\n"
   ]
  },
  {
   "cell_type": "markdown",
   "id": "898bf46c",
   "metadata": {},
   "source": [
    "By default statistical anaysis is run on numerical values.  \n",
    "\n",
    "Looking at the data above what do you notice about Age? Cabin? Hint: It would appear we are missing some data. How might these observations influence the questions asked?<br><br>\n",
    "\n",
    "Any other observations?\n",
    "<br><br><br>"
   ]
  },
  {
   "cell_type": "markdown",
   "id": "4c7c0618",
   "metadata": {},
   "source": [
    "## Aggregating statistics"
   ]
  },
  {
   "cell_type": "markdown",
   "id": "6d7429ab",
   "metadata": {},
   "source": [
    "### Calculating Mean, Median, Mode"
   ]
  },
  {
   "cell_type": "markdown",
   "id": "531231ed",
   "metadata": {},
   "source": [
    "#### Mean: is the sum of the values divided by the number of values."
   ]
  },
  {
   "cell_type": "code",
   "execution_count": null,
   "id": "6c643af1",
   "metadata": {},
   "outputs": [],
   "source": [
    "#What is the mean age of the Titanic passengers?\n"
   ]
  },
  {
   "cell_type": "markdown",
   "id": "77fdd7e3",
   "metadata": {},
   "source": [
    "We can also get the mean for all columns. "
   ]
  },
  {
   "cell_type": "code",
   "execution_count": null,
   "id": "8c257e27",
   "metadata": {},
   "outputs": [],
   "source": [
    "#mean for all columns\n",
    "titanic.mean()"
   ]
  },
  {
   "cell_type": "markdown",
   "id": "650ab22b",
   "metadata": {},
   "source": [
    "#### Median: Is the middle value when all the numbers are put in order, dividing the sample into two halves.  \n",
    "\n",
    "Example: (23, 46, 55, 78, 99)<br> \n",
    "The Median of the above example is 55. "
   ]
  },
  {
   "cell_type": "code",
   "execution_count": null,
   "id": "75c70181",
   "metadata": {},
   "outputs": [],
   "source": [
    "# What is the median age and ticket fare price of the Titanic passengers?\n"
   ]
  },
  {
   "cell_type": "markdown",
   "id": "12993336",
   "metadata": {},
   "source": [
    "#### Mode: The most frequent value(s) in a sample"
   ]
  },
  {
   "cell_type": "code",
   "execution_count": null,
   "id": "d21de9a8",
   "metadata": {},
   "outputs": [],
   "source": [
    "# What is the mode age and fare for the titanic dateset?\n",
    "\n"
   ]
  },
  {
   "cell_type": "markdown",
   "id": "8894202a",
   "metadata": {},
   "source": [
    "Note the difference between Mean, Medium and Mode.  Why is this important? Can you think of times you would what to use one over the others?<br><br><br><br><br>\n",
    "\n",
    "\n",
    "\n",
    "\n"
   ]
  },
  {
   "cell_type": "markdown",
   "id": "1089b8d7",
   "metadata": {},
   "source": [
    "We can use the .describe() funciton to display some basic statistics for all numeric columns:"
   ]
  },
  {
   "cell_type": "code",
   "execution_count": null,
   "id": "cf48f48d",
   "metadata": {},
   "outputs": [],
   "source": [
    "# Summary statistics for all columns in a dataset\n"
   ]
  },
  {
   "cell_type": "code",
   "execution_count": null,
   "id": "807896f0",
   "metadata": {},
   "outputs": [],
   "source": [
    "# Summary statistics for just the Age and Fare columns\n"
   ]
  },
  {
   "cell_type": "markdown",
   "id": "87bd507a",
   "metadata": {},
   "source": [
    "Notice that medium and mode are not included in .describe()\n",
    "\n",
    "Instead of the predefined statistics, specific combinations of aggregating statistics for given columns can be defined using the [DataFrame.agg() method:](https://pandas.pydata.org/pandas-docs/stable/reference/api/pandas.DataFrame.agg.html#pandas.DataFrame.agg)"
   ]
  },
  {
   "cell_type": "code",
   "execution_count": null,
   "id": "bc9fd691",
   "metadata": {},
   "outputs": [],
   "source": [
    "#use .agg"
   ]
  },
  {
   "cell_type": "markdown",
   "id": "1819249b",
   "metadata": {},
   "source": [
    "## Aggregating statistics grouped by category"
   ]
  },
  {
   "cell_type": "markdown",
   "id": "28129c8e",
   "metadata": {},
   "source": [
    "Calculating a given statistic (e.g. mean age) for each category in a column (e.g. male/female in the Sex column) is a common pattern. The groupby method is used to support this type of operations. "
   ]
  },
  {
   "cell_type": "code",
   "execution_count": null,
   "id": "ae223f7c",
   "metadata": {
    "scrolled": true
   },
   "outputs": [],
   "source": [
    "# What is the average age for male versus female Titanic passengers?\n"
   ]
  },
  {
   "cell_type": "code",
   "execution_count": null,
   "id": "c734ba4e",
   "metadata": {},
   "outputs": [],
   "source": [
    "# What is the survival of men verses female Titanic Passengers? \n",
    "\n"
   ]
  },
  {
   "cell_type": "code",
   "execution_count": null,
   "id": "7ea45273",
   "metadata": {},
   "outputs": [],
   "source": [
    "# Try some other combinations, what do you think about this method?\n",
    "\n",
    "\n",
    "\n",
    "\n",
    "\n",
    "\n",
    "\n"
   ]
  },
  {
   "cell_type": "markdown",
   "id": "066ba694",
   "metadata": {},
   "source": [
    "In the previous examples, we explicitly selected the 2 columns first. If not, the mean method is applied to each column containing numerical columns:"
   ]
  },
  {
   "cell_type": "code",
   "execution_count": null,
   "id": "8ac2debe",
   "metadata": {},
   "outputs": [],
   "source": [
    "#use .groupby Sex and .mean\n"
   ]
  },
  {
   "cell_type": "markdown",
   "id": "00bf525e",
   "metadata": {},
   "source": [
    "It does not make much sense to get the average value of the Pclass. if we are only interested in the average age for each gender, the selection of columns (rectangular brackets [] as usual) is supported on the grouped data as well:"
   ]
  },
  {
   "cell_type": "code",
   "execution_count": null,
   "id": "4f6729a2",
   "metadata": {},
   "outputs": [],
   "source": [
    "#use .goupby Sex just for Age \n"
   ]
  },
  {
   "cell_type": "code",
   "execution_count": null,
   "id": "cdcdc983",
   "metadata": {},
   "outputs": [],
   "source": [
    "# What is the mean ticket fare price for each of the sex and cabin class combinations?\n"
   ]
  },
  {
   "cell_type": "code",
   "execution_count": null,
   "id": "2d734ef2",
   "metadata": {},
   "outputs": [],
   "source": [
    "# Try some other combinations, what do you think about this method?\n",
    "\n",
    "\n",
    "\n",
    "\n"
   ]
  },
  {
   "cell_type": "markdown",
   "id": "69e40dfa",
   "metadata": {},
   "source": [
    "## Count number of records by category\n",
    "\n",
    "The value_counts() method counts the number of records for each category in a column."
   ]
  },
  {
   "cell_type": "code",
   "execution_count": null,
   "id": "c167e6b8",
   "metadata": {},
   "outputs": [],
   "source": [
    "# What is the number of passengers in each of the cabin classes?\n"
   ]
  },
  {
   "cell_type": "markdown",
   "id": "56219768",
   "metadata": {},
   "source": [
    "The function is a shortcut, as it is actually a groupby operation in combination with counting of the number of records within each group:"
   ]
  },
  {
   "cell_type": "code",
   "execution_count": null,
   "id": "950f5c70",
   "metadata": {},
   "outputs": [],
   "source": [
    "#Count the number of passengers by cabin classes using groupby\n"
   ]
  },
  {
   "cell_type": "code",
   "execution_count": null,
   "id": "e822526a",
   "metadata": {},
   "outputs": [],
   "source": [
    "# Using the value_counts method what else could you count?\n",
    "\n",
    "\n",
    "\n",
    "\n"
   ]
  }
 ],
 "metadata": {
  "celltoolbar": "Raw Cell Format",
  "kernelspec": {
   "display_name": "Python 3 (ipykernel)",
   "language": "python",
   "name": "python3"
  },
  "language_info": {
   "codemirror_mode": {
    "name": "ipython",
    "version": 3
   },
   "file_extension": ".py",
   "mimetype": "text/x-python",
   "name": "python",
   "nbconvert_exporter": "python",
   "pygments_lexer": "ipython3",
   "version": "3.9.7"
  }
 },
 "nbformat": 4,
 "nbformat_minor": 5
}
